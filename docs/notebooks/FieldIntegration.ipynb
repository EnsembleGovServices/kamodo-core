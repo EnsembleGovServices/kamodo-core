{
 "cells": [
  {
   "cell_type": "markdown",
   "metadata": {},
   "source": [
    "# Field Integration Techniques\n",
    "\n",
    "Many analysis techniques for vector fields require solving an initial value problem for an arbitrary set of seed points and evaluating such solutions at a chosen resolution. Kamodo makes it easy to generate fieldline solutions by providing a function decorator that wraps scipy's powerful `solve_ivp` function. Each family of solutions is represented by a single function of a complex parameter. We illustrate the flexibility of this approach in the example below."
   ]
  },
  {
   "cell_type": "code",
   "execution_count": 1,
   "metadata": {},
   "outputs": [],
   "source": [
    "# initialize\n",
    "from plotly.offline import iplot, plot, init_notebook_mode\n",
    "init_notebook_mode(connected = True)\n",
    "\n",
    "from kamodo import Kamodo, event, pointlike, kamodofy, solve\n",
    "import numpy as np\n",
    "import pandas as pd"
   ]
  },
  {
   "cell_type": "markdown",
   "metadata": {},
   "source": [
    "## Dipole field model\n",
    "\n",
    "We use the following dipole field model that can accept (m,) and (1,m), and (n,m) arrays."
   ]
  },
  {
   "cell_type": "code",
   "execution_count": 2,
   "metadata": {},
   "outputs": [
    {
     "name": "stderr",
     "output_type": "stream",
     "text": [
      "/tmp/ipykernel_35925/2375873468.py:36: DeprecationWarning:\n",
      "\n",
      "`np.float` is a deprecated alias for the builtin `float`. To silence this warning, use `float` by itself. Doing this will not modify any behavior and is safe. If you specifically wanted the numpy scalar type, use `np.float64` here.\n",
      "Deprecated in NumPy 1.20; for more details and guidance: https://numpy.org/devdocs/release/1.20.0-notes.html#deprecations\n",
      "\n"
     ]
    }
   ],
   "source": [
    "def Bdip(rvec):\n",
    "    \"\"\"Need math to work in a variety of arg shapes\"\"\"\n",
    "    muvec = Bdip.muvec    \n",
    "    r = np.linalg.norm(rvec, axis = 1)\n",
    "    r[r==0] = np.nan\n",
    "\n",
    "    try:\n",
    "        rhat = rvec/r\n",
    "    except:\n",
    "        rhat = (rvec.T/r).T\n",
    "\n",
    "    try:\n",
    "        result = 3*np.dot(rhat, muvec.T)\n",
    "    except:\n",
    "        result = 3*np.dot(rhat.T, muvec.T).T\n",
    "\n",
    "\n",
    "    result = (rhat.T*result).T\n",
    "\n",
    "    try:\n",
    "        result = result - muvec\n",
    "    except:\n",
    "        result = (result - muvec.T).T\n",
    "\n",
    "    try:\n",
    "        result = result/r**3\n",
    "    except:\n",
    "        result = (result.T/r**3).T\n",
    "\n",
    "    return result\n",
    "\n",
    "# set dipole moment\n",
    "Bdip.muvec = np.array([0, 0, -1]) \n",
    "\n",
    "# pointlike enforces dimensionality\n",
    "Bdip = pointlike(Bdip, '(n,m)->(n,m)', [float], squeeze = 0)"
   ]
  },
  {
   "cell_type": "code",
   "execution_count": 3,
   "metadata": {},
   "outputs": [],
   "source": [
    "kamodo = Kamodo()"
   ]
  },
  {
   "cell_type": "code",
   "execution_count": 4,
   "metadata": {},
   "outputs": [
    {
     "data": {
      "text/latex": [
       "\\begin{equation}\\vec{B}{\\left(\\vec{r} \\right)} = \\lambda{\\left(\\vec{r} \\right)}\\end{equation}"
      ],
      "text/plain": [
       "{Bvec(rvec): <function Bdip at 0x7febe766eca0>, Bvec: <function Bdip at 0x7febe766eca0>}"
      ]
     },
     "execution_count": 4,
     "metadata": {},
     "output_type": "execute_result"
    }
   ],
   "source": [
    "kamodo['Bvec'] = Bdip # register the dipole field\n",
    "kamodo"
   ]
  },
  {
   "cell_type": "markdown",
   "metadata": {},
   "source": [
    "## Normalization\n",
    "\n",
    "Instead of solving the initial value problem on the original field, we will be solving on the normalized field. This will mean that the integral path is the same as the arclength, allowing us to control the visual fidelity of the resulting field."
   ]
  },
  {
   "cell_type": "markdown",
   "metadata": {},
   "source": [
    "Create a normalization function to be applied to our field"
   ]
  },
  {
   "cell_type": "code",
   "execution_count": 18,
   "metadata": {},
   "outputs": [],
   "source": [
    "@kamodofy(equation = \"\\\\hat{n}(\\\\vec{y}) = \\\\vec{y}/\\\\sqrt{\\\\vec{y} \\\\cdot \\\\vec{y}}\")\n",
    "@pointlike(signature = '(m,n)->(m,n)', squeeze = 0)\n",
    "def normalized(yvec):   \n",
    "    r = np.linalg.norm(yvec, axis = 1)\n",
    "    r[r==0] = np.nan\n",
    "\n",
    "    try:\n",
    "        return yvec/r\n",
    "    except:\n",
    "        return (yvec.T/r).T\n",
    "\n",
    "\n",
    "kamodo['nhat'] = normalized"
   ]
  },
  {
   "cell_type": "markdown",
   "metadata": {},
   "source": [
    "Create a normalized field"
   ]
  },
  {
   "cell_type": "code",
   "execution_count": 19,
   "metadata": {},
   "outputs": [
    {
     "data": {
      "text/latex": [
       "\\begin{equation}\\vec{B}{\\left(\\vec{r} \\right)} = \\lambda{\\left(\\vec{r} \\right)}\\end{equation} \\begin{equation}\\hat{n}{\\left(\\vec{y} \\right)} = \\hat{n}(\\vec{y}) = \\vec{y}/\\sqrt{\\vec{y} \\cdot \\vec{y}}\\end{equation} \\begin{equation}\\hat{b}{\\left(\\vec{r} \\right)} = \\hat{n}{\\left(\\vec{B}{\\left(\\vec{r} \\right)} \\right)}\\end{equation}"
      ],
      "text/plain": [
       "{Bvec(rvec): <function Bdip at 0x7febe766eca0>, Bvec: <function Bdip at 0x7febe766eca0>, nhat(yvec): <function normalized at 0x7febe75e8820>, nhat: <function normalized at 0x7febe75e8820>, bhat(rvec): <function _lambdifygenerated at 0x7febe7641a60>, bhat: <function _lambdifygenerated at 0x7febe7641a60>}"
      ]
     },
     "execution_count": 19,
     "metadata": {},
     "output_type": "execute_result"
    }
   ],
   "source": [
    "kamodo['bhat'] = \"nhat(Bvec)\"\n",
    "kamodo"
   ]
  },
  {
   "cell_type": "markdown",
   "metadata": {},
   "source": [
    "## Solving the initial value problem"
   ]
  },
  {
   "cell_type": "markdown",
   "metadata": {},
   "source": [
    "Generate a set of seed points for integration"
   ]
  },
  {
   "cell_type": "code",
   "execution_count": 20,
   "metadata": {},
   "outputs": [],
   "source": [
    "x0 = np.linspace(-np.pi,np.pi,6)\n",
    "y0 = np.linspace(-np.pi,np.pi,6)\n",
    "z0 = 1\n",
    "\n",
    "seeds = np.array(np.column_stack([c.ravel() for c in np.meshgrid(x0,y0,z0)]))"
   ]
  },
  {
   "cell_type": "markdown",
   "metadata": {},
   "source": [
    "Create a stopping boundary for field line integrator"
   ]
  },
  {
   "cell_type": "code",
   "execution_count": 21,
   "metadata": {},
   "outputs": [],
   "source": [
    "@event\n",
    "def boundary(s, rvec):\n",
    "    r = np.linalg.norm(rvec)\n",
    "    \n",
    "    if np.isnan(r):\n",
    "        result = 0\n",
    "    else:\n",
    "        result = r - 1\n",
    "    return result\n"
   ]
  },
  {
   "cell_type": "markdown",
   "metadata": {},
   "source": [
    "Solve the initial value problem for the normalized field"
   ]
  },
  {
   "cell_type": "code",
   "execution_count": 22,
   "metadata": {},
   "outputs": [
    {
     "data": {
      "text/latex": [
       "\\begin{equation}\\vec{B}{\\left(\\vec{r} \\right)} = \\lambda{\\left(\\vec{r} \\right)}\\end{equation} \\begin{equation}\\hat{n}{\\left(\\vec{y} \\right)} = \\hat{n}(\\vec{y}) = \\vec{y}/\\sqrt{\\vec{y} \\cdot \\vec{y}}\\end{equation} \\begin{equation}\\hat{b}{\\left(\\vec{r} \\right)} = \\hat{n}{\\left(\\vec{B}{\\left(\\vec{r} \\right)} \\right)}\\end{equation} \\begin{equation}\\vec{s}{\\left(s \\right)} = \\lambda{\\left(s \\right)}\\end{equation}"
      ],
      "text/plain": [
       "{Bvec(rvec): <function Bdip at 0x7febe766eca0>, Bvec: <function Bdip at 0x7febe766eca0>, nhat(yvec): <function normalized at 0x7febe75e8820>, nhat: <function normalized at 0x7febe75e8820>, bhat(rvec): <function _lambdifygenerated at 0x7febe7641a60>, bhat: <function _lambdifygenerated at 0x7febe7641a60>, svec(s): <function solve.<locals>.decorator_solve.<locals>.solution at 0x7febe55d3f70>, svec: <function solve.<locals>.decorator_solve.<locals>.solution at 0x7febe55d3f70>}"
      ]
     },
     "execution_count": 22,
     "metadata": {},
     "output_type": "execute_result"
    }
   ],
   "source": [
    "kamodo['svec'] = solve(kamodo.bhat, # the field to be solved\n",
    "                       seeds, # the initial positions\n",
    "                       's', # the name of the integration parameter\n",
    "                       (0,30), # the span to integrate over\n",
    "                       npoints = 60, # the number of points to evaluate the solution\n",
    "                       events = boundary, # stop at the boundary\n",
    "                      )\n",
    "kamodo"
   ]
  },
  {
   "cell_type": "markdown",
   "metadata": {},
   "source": [
    "The solver returns a family of solutions, represented as a single function of a complex array, $\\vec{s}(s)$ where\n",
    "$s$ is a complex array. "
   ]
  },
  {
   "cell_type": "markdown",
   "metadata": {},
   "source": [
    "## Evaluating the Solutions\n",
    "On evaluation, $\\vec{s}(s)$ returns a pandas dataframe."
   ]
  },
  {
   "cell_type": "code",
   "execution_count": 23,
   "metadata": {},
   "outputs": [
    {
     "data": {
      "text/html": [
       "<div>\n",
       "<style scoped>\n",
       "    .dataframe tbody tr th:only-of-type {\n",
       "        vertical-align: middle;\n",
       "    }\n",
       "\n",
       "    .dataframe tbody tr th {\n",
       "        vertical-align: top;\n",
       "    }\n",
       "\n",
       "    .dataframe thead th {\n",
       "        text-align: right;\n",
       "    }\n",
       "</style>\n",
       "<table border=\"1\" class=\"dataframe\">\n",
       "  <thead>\n",
       "    <tr style=\"text-align: right;\">\n",
       "      <th></th>\n",
       "      <th></th>\n",
       "      <th>0</th>\n",
       "      <th>1</th>\n",
       "      <th>2</th>\n",
       "    </tr>\n",
       "    <tr>\n",
       "      <th>seed</th>\n",
       "      <th>integral</th>\n",
       "      <th></th>\n",
       "      <th></th>\n",
       "      <th></th>\n",
       "    </tr>\n",
       "  </thead>\n",
       "  <tbody>\n",
       "    <tr>\n",
       "      <th rowspan=\"5\" valign=\"top\">0.0</th>\n",
       "      <th>-6.610169</th>\n",
       "      <td>-0.347547</td>\n",
       "      <td>-0.347547</td>\n",
       "      <td>-0.924155</td>\n",
       "    </tr>\n",
       "    <tr>\n",
       "      <th>-6.101695</th>\n",
       "      <td>-0.615886</td>\n",
       "      <td>-0.615886</td>\n",
       "      <td>-1.261575</td>\n",
       "    </tr>\n",
       "    <tr>\n",
       "      <th>-5.593220</th>\n",
       "      <td>-0.922735</td>\n",
       "      <td>-0.922735</td>\n",
       "      <td>-1.525472</td>\n",
       "    </tr>\n",
       "    <tr>\n",
       "      <th>-5.084746</th>\n",
       "      <td>-1.256963</td>\n",
       "      <td>-1.256963</td>\n",
       "      <td>-1.713145</td>\n",
       "    </tr>\n",
       "    <tr>\n",
       "      <th>-4.576271</th>\n",
       "      <td>-1.608411</td>\n",
       "      <td>-1.608411</td>\n",
       "      <td>-1.822192</td>\n",
       "    </tr>\n",
       "  </tbody>\n",
       "</table>\n",
       "</div>"
      ],
      "text/plain": [
       "                       0         1         2\n",
       "seed integral                               \n",
       "0.0  -6.610169 -0.347547 -0.347547 -0.924155\n",
       "     -6.101695 -0.615886 -0.615886 -1.261575\n",
       "     -5.593220 -0.922735 -0.922735 -1.525472\n",
       "     -5.084746 -1.256963 -1.256963 -1.713145\n",
       "     -4.576271 -1.608411 -1.608411 -1.822192"
      ]
     },
     "execution_count": 23,
     "metadata": {},
     "output_type": "execute_result"
    }
   ],
   "source": [
    "kamodo.svec().head()"
   ]
  },
  {
   "cell_type": "markdown",
   "metadata": {},
   "source": [
    "When using the default argument above, the solution evaluates at a resolution of npoints/span, stopping at the boundary."
   ]
  },
  {
   "cell_type": "markdown",
   "metadata": {},
   "source": [
    "## Complex parameterization\n",
    "Kamodo represents the family of solutions to the initial value problem as a single function of a complex array.\n",
    "\n",
    "The floor of the real part of the input parameter corresponds to the original seed array:"
   ]
  },
  {
   "cell_type": "code",
   "execution_count": 24,
   "metadata": {},
   "outputs": [
    {
     "data": {
      "text/plain": [
       "array([[-3.14159265, -3.14159265,  1.        ],\n",
       "       [-1.88495559, -3.14159265,  1.        ],\n",
       "       [-0.62831853, -3.14159265,  1.        ]])"
      ]
     },
     "execution_count": 24,
     "metadata": {},
     "output_type": "execute_result"
    }
   ],
   "source": [
    "kamodo.svec([0,1,2]).values"
   ]
  },
  {
   "cell_type": "markdown",
   "metadata": {},
   "source": [
    "compare with original seeds:"
   ]
  },
  {
   "cell_type": "code",
   "execution_count": 25,
   "metadata": {},
   "outputs": [
    {
     "data": {
      "text/plain": [
       "array([[-3.14159265, -3.14159265,  1.        ],\n",
       "       [-1.88495559, -3.14159265,  1.        ],\n",
       "       [-0.62831853, -3.14159265,  1.        ]])"
      ]
     },
     "execution_count": 25,
     "metadata": {},
     "output_type": "execute_result"
    }
   ],
   "source": [
    "seeds[[0,1,2]]"
   ]
  },
  {
   "cell_type": "markdown",
   "metadata": {},
   "source": [
    "The imaginary part denotes the integral along the corresponding solution. Here, we can choose evaluation points that were not in the original solution. Parameters outside the original span will be extrapolated."
   ]
  },
  {
   "cell_type": "code",
   "execution_count": 26,
   "metadata": {},
   "outputs": [
    {
     "data": {
      "text/html": [
       "<div>\n",
       "<style scoped>\n",
       "    .dataframe tbody tr th:only-of-type {\n",
       "        vertical-align: middle;\n",
       "    }\n",
       "\n",
       "    .dataframe tbody tr th {\n",
       "        vertical-align: top;\n",
       "    }\n",
       "\n",
       "    .dataframe thead th {\n",
       "        text-align: right;\n",
       "    }\n",
       "</style>\n",
       "<table border=\"1\" class=\"dataframe\">\n",
       "  <thead>\n",
       "    <tr style=\"text-align: right;\">\n",
       "      <th></th>\n",
       "      <th></th>\n",
       "      <th>0</th>\n",
       "      <th>1</th>\n",
       "      <th>2</th>\n",
       "    </tr>\n",
       "    <tr>\n",
       "      <th>seed</th>\n",
       "      <th>integral</th>\n",
       "      <th></th>\n",
       "      <th></th>\n",
       "      <th></th>\n",
       "    </tr>\n",
       "  </thead>\n",
       "  <tbody>\n",
       "    <tr>\n",
       "      <th rowspan=\"5\" valign=\"top\">0.0</th>\n",
       "      <th>-6.000</th>\n",
       "      <td>-0.674502</td>\n",
       "      <td>-0.674502</td>\n",
       "      <td>-1.320504</td>\n",
       "    </tr>\n",
       "    <tr>\n",
       "      <th>-5.000</th>\n",
       "      <td>-1.314574</td>\n",
       "      <td>-1.314574</td>\n",
       "      <td>-1.737228</td>\n",
       "    </tr>\n",
       "    <tr>\n",
       "      <th>0.000</th>\n",
       "      <td>-3.141593</td>\n",
       "      <td>-3.141593</td>\n",
       "      <td>1.000000</td>\n",
       "    </tr>\n",
       "    <tr>\n",
       "      <th>5.000</th>\n",
       "      <td>-0.120606</td>\n",
       "      <td>-0.120606</td>\n",
       "      <td>0.491892</td>\n",
       "    </tr>\n",
       "    <tr>\n",
       "      <th>6.000</th>\n",
       "      <td>0.125472</td>\n",
       "      <td>0.125472</td>\n",
       "      <td>-0.393292</td>\n",
       "    </tr>\n",
       "    <tr>\n",
       "      <th rowspan=\"2\" valign=\"top\">4.0</th>\n",
       "      <th>4.000</th>\n",
       "      <td>0.094223</td>\n",
       "      <td>-0.157038</td>\n",
       "      <td>0.481740</td>\n",
       "    </tr>\n",
       "    <tr>\n",
       "      <th>-5.777</th>\n",
       "      <td>0.234804</td>\n",
       "      <td>-0.391340</td>\n",
       "      <td>-0.827054</td>\n",
       "    </tr>\n",
       "  </tbody>\n",
       "</table>\n",
       "</div>"
      ],
      "text/plain": [
       "                      0         1         2\n",
       "seed integral                              \n",
       "0.0  -6.000   -0.674502 -0.674502 -1.320504\n",
       "     -5.000   -1.314574 -1.314574 -1.737228\n",
       "      0.000   -3.141593 -3.141593  1.000000\n",
       "      5.000   -0.120606 -0.120606  0.491892\n",
       "      6.000    0.125472  0.125472 -0.393292\n",
       "4.0   4.000    0.094223 -0.157038  0.481740\n",
       "     -5.777    0.234804 -0.391340 -0.827054"
      ]
     },
     "execution_count": 26,
     "metadata": {},
     "output_type": "execute_result"
    }
   ],
   "source": [
    "kamodo.svec([-6j, -5j, 0, 5j, 6j, 4 + 4j, 4 -5.777j])"
   ]
  },
  {
   "cell_type": "markdown",
   "metadata": {},
   "source": [
    "## Plotting Fieldlines\n",
    "\n",
    "We can quickly generate plots for all fieldlines at the default resolution by calling plot with the name of the fieldlines solution."
   ]
  },
  {
   "cell_type": "code",
   "execution_count": 27,
   "metadata": {},
   "outputs": [],
   "source": [
    "import plotly.io as pio"
   ]
  },
  {
   "cell_type": "code",
   "execution_count": 28,
   "metadata": {},
   "outputs": [
    {
     "ename": "TypeError",
     "evalue": "unsupported operand type(s) for +: 'int' and 'str'",
     "output_type": "error",
     "traceback": [
      "\u001b[0;31m---------------------------------------------------------------------------\u001b[0m",
      "\u001b[0;31mTypeError\u001b[0m                                 Traceback (most recent call last)",
      "\u001b[0;32m/tmp/ipykernel_35925/2278604583.py\u001b[0m in \u001b[0;36m<module>\u001b[0;34m\u001b[0m\n\u001b[0;32m----> 1\u001b[0;31m \u001b[0mfig\u001b[0m \u001b[0;34m=\u001b[0m \u001b[0mkamodo\u001b[0m\u001b[0;34m.\u001b[0m\u001b[0mplot\u001b[0m\u001b[0;34m(\u001b[0m\u001b[0;34m'svec'\u001b[0m\u001b[0;34m)\u001b[0m\u001b[0;34m\u001b[0m\u001b[0;34m\u001b[0m\u001b[0m\n\u001b[0m",
      "\u001b[0;32m~/.local/lib/python3.8/site-packages/kamodo/kamodo.py\u001b[0m in \u001b[0;36mplot\u001b[0;34m(self, *variables, **figures)\u001b[0m\n\u001b[1;32m   1031\u001b[0m         \u001b[0;32mif\u001b[0m \u001b[0mlen\u001b[0m\u001b[0;34m(\u001b[0m\u001b[0mfigures\u001b[0m\u001b[0;34m)\u001b[0m \u001b[0;34m==\u001b[0m \u001b[0;36m1\u001b[0m\u001b[0;34m:\u001b[0m\u001b[0;34m\u001b[0m\u001b[0;34m\u001b[0m\u001b[0m\n\u001b[1;32m   1032\u001b[0m             \u001b[0mvariable\u001b[0m\u001b[0;34m,\u001b[0m \u001b[0mkwargs\u001b[0m \u001b[0;34m=\u001b[0m \u001b[0mlist\u001b[0m\u001b[0;34m(\u001b[0m\u001b[0mfigures\u001b[0m\u001b[0;34m.\u001b[0m\u001b[0mitems\u001b[0m\u001b[0;34m(\u001b[0m\u001b[0;34m)\u001b[0m\u001b[0;34m)\u001b[0m\u001b[0;34m[\u001b[0m\u001b[0;36m0\u001b[0m\u001b[0;34m]\u001b[0m\u001b[0;34m\u001b[0m\u001b[0;34m\u001b[0m\u001b[0m\n\u001b[0;32m-> 1033\u001b[0;31m             \u001b[0mfig\u001b[0m \u001b[0;34m=\u001b[0m \u001b[0mself\u001b[0m\u001b[0;34m.\u001b[0m\u001b[0mfigure\u001b[0m\u001b[0;34m(\u001b[0m\u001b[0mvariable\u001b[0m\u001b[0;34m,\u001b[0m \u001b[0;34m**\u001b[0m\u001b[0mkwargs\u001b[0m\u001b[0;34m)\u001b[0m\u001b[0;34m\u001b[0m\u001b[0;34m\u001b[0m\u001b[0m\n\u001b[0m\u001b[1;32m   1034\u001b[0m             \u001b[0;31m# if fig['chart_type'] is None:\u001b[0m\u001b[0;34m\u001b[0m\u001b[0;34m\u001b[0m\u001b[0;34m\u001b[0m\u001b[0m\n\u001b[1;32m   1035\u001b[0m             \u001b[0;31m#     raise AttributeError(\"No chart_type for this trace\")\u001b[0m\u001b[0;34m\u001b[0m\u001b[0;34m\u001b[0m\u001b[0;34m\u001b[0m\u001b[0m\n",
      "\u001b[0;32m~/.local/lib/python3.8/site-packages/kamodo/kamodo.py\u001b[0m in \u001b[0;36mfigure\u001b[0;34m(self, variable, indexing, **kwargs)\u001b[0m\n\u001b[1;32m   1000\u001b[0m             \u001b[0;32mraise\u001b[0m\u001b[0;34m\u001b[0m\u001b[0;34m\u001b[0m\u001b[0m\n\u001b[1;32m   1001\u001b[0m \u001b[0;34m\u001b[0m\u001b[0m\n\u001b[0;32m-> 1002\u001b[0;31m         traces, chart_type, layout = plot_func(\n\u001b[0m\u001b[1;32m   1003\u001b[0m             \u001b[0mresult\u001b[0m\u001b[0;34m,\u001b[0m\u001b[0;34m\u001b[0m\u001b[0;34m\u001b[0m\u001b[0m\n\u001b[1;32m   1004\u001b[0m             \u001b[0mtitles\u001b[0m\u001b[0;34m,\u001b[0m\u001b[0;34m\u001b[0m\u001b[0;34m\u001b[0m\u001b[0m\n",
      "\u001b[0;32m~/.local/lib/python3.8/site-packages/kamodo/plotting.py\u001b[0m in \u001b[0;36mline_plot\u001b[0;34m(result, titles, verbose, **kwargs)\u001b[0m\n\u001b[1;32m    144\u001b[0m                     \u001b[0mtitle\u001b[0m\u001b[0;34m=\u001b[0m\u001b[0mtitles\u001b[0m\u001b[0;34m[\u001b[0m\u001b[0;34m'title'\u001b[0m\u001b[0;34m]\u001b[0m\u001b[0;34m,\u001b[0m\u001b[0;34m\u001b[0m\u001b[0;34m\u001b[0m\u001b[0m\n\u001b[1;32m    145\u001b[0m                     scene=dict(\n\u001b[0;32m--> 146\u001b[0;31m                         \u001b[0mxaxis\u001b[0m\u001b[0;34m=\u001b[0m\u001b[0mdict\u001b[0m\u001b[0;34m(\u001b[0m\u001b[0mtitle\u001b[0m\u001b[0;34m=\u001b[0m\u001b[0mf\u001b[0m\u001b[0;34m.\u001b[0m\u001b[0mcolumns\u001b[0m\u001b[0;34m[\u001b[0m\u001b[0;36m0\u001b[0m\u001b[0;34m]\u001b[0m \u001b[0;34m+\u001b[0m \u001b[0mtitles\u001b[0m\u001b[0;34m[\u001b[0m\u001b[0;34m'units'\u001b[0m\u001b[0;34m]\u001b[0m\u001b[0;34m)\u001b[0m\u001b[0;34m,\u001b[0m\u001b[0;34m\u001b[0m\u001b[0;34m\u001b[0m\u001b[0m\n\u001b[0m\u001b[1;32m    147\u001b[0m                         \u001b[0myaxis\u001b[0m\u001b[0;34m=\u001b[0m\u001b[0mdict\u001b[0m\u001b[0;34m(\u001b[0m\u001b[0mtitle\u001b[0m\u001b[0;34m=\u001b[0m\u001b[0mf\u001b[0m\u001b[0;34m.\u001b[0m\u001b[0mcolumns\u001b[0m\u001b[0;34m[\u001b[0m\u001b[0;36m1\u001b[0m\u001b[0;34m]\u001b[0m \u001b[0;34m+\u001b[0m \u001b[0mtitles\u001b[0m\u001b[0;34m[\u001b[0m\u001b[0;34m'units'\u001b[0m\u001b[0;34m]\u001b[0m\u001b[0;34m)\u001b[0m\u001b[0;34m,\u001b[0m\u001b[0;34m\u001b[0m\u001b[0;34m\u001b[0m\u001b[0m\n\u001b[1;32m    148\u001b[0m                         \u001b[0mzaxis\u001b[0m\u001b[0;34m=\u001b[0m\u001b[0mdict\u001b[0m\u001b[0;34m(\u001b[0m\u001b[0mtitle\u001b[0m\u001b[0;34m=\u001b[0m\u001b[0mf\u001b[0m\u001b[0;34m.\u001b[0m\u001b[0mcolumns\u001b[0m\u001b[0;34m[\u001b[0m\u001b[0;36m2\u001b[0m\u001b[0;34m]\u001b[0m \u001b[0;34m+\u001b[0m \u001b[0mtitles\u001b[0m\u001b[0;34m[\u001b[0m\u001b[0;34m'units'\u001b[0m\u001b[0;34m]\u001b[0m\u001b[0;34m)\u001b[0m\u001b[0;34m,\u001b[0m\u001b[0;34m\u001b[0m\u001b[0;34m\u001b[0m\u001b[0m\n",
      "\u001b[0;31mTypeError\u001b[0m: unsupported operand type(s) for +: 'int' and 'str'"
     ]
    }
   ],
   "source": [
    "fig = kamodo.plot('svec')\n",
    "# fig"
   ]
  },
  {
   "cell_type": "code",
   "execution_count": null,
   "metadata": {},
   "outputs": [],
   "source": [
    "pio.write_image(fig, './images/fieldlines.svg')"
   ]
  },
  {
   "cell_type": "markdown",
   "metadata": {},
   "source": [
    "![images/fieldlines.svg](images/fieldlines.svg)"
   ]
  },
  {
   "cell_type": "markdown",
   "metadata": {},
   "source": [
    "To show the direction of the field at each point, we can evaluate $\\hat{B}(\\vec{s}(s))$"
   ]
  },
  {
   "cell_type": "code",
   "execution_count": null,
   "metadata": {},
   "outputs": [],
   "source": [
    "fig = kamodo.plot('svec', \n",
    "                  bhat = dict(rvec = kamodo.svec()))\n",
    "pio.write_image(fig,'./images/fieldlines_vectors.svg')\n",
    "# fig"
   ]
  },
  {
   "cell_type": "markdown",
   "metadata": {},
   "source": [
    "![fieldlines](images/fieldlines_vectors.svg)"
   ]
  },
  {
   "cell_type": "markdown",
   "metadata": {},
   "source": [
    "## Integration totals"
   ]
  },
  {
   "cell_type": "markdown",
   "metadata": {},
   "source": [
    "To compute the total integral for each fieldline individually, we need a function to subtract the integration results at the endpoints."
   ]
  },
  {
   "cell_type": "code",
   "execution_count": null,
   "metadata": {},
   "outputs": [],
   "source": [
    "def integral(fieldline):\n",
    "    endpoints = fieldline.reset_index().integral.iloc[[0,-1]]\n",
    "    return endpoints.values[-1] - endpoints.values[0]"
   ]
  },
  {
   "cell_type": "code",
   "execution_count": null,
   "metadata": {},
   "outputs": [],
   "source": [
    "totals = []\n",
    "for seed, fieldline in kamodo.svec().groupby(level = 'seed'):\n",
    "    totals.append(integral(fieldline))\n",
    "    \n",
    "totals[:5]"
   ]
  },
  {
   "cell_type": "markdown",
   "metadata": {},
   "source": [
    "Alternatively, we can use pandas' aggregation methods to apply our function on each fieldline."
   ]
  },
  {
   "cell_type": "code",
   "execution_count": null,
   "metadata": {},
   "outputs": [],
   "source": [
    "kamodo.svec().groupby(level='seed').aggregate(integral)"
   ]
  }
 ],
 "metadata": {
  "kernelspec": {
   "display_name": "Python 3 (ipykernel)",
   "language": "python",
   "name": "python3"
  },
  "language_info": {
   "codemirror_mode": {
    "name": "ipython",
    "version": 3
   },
   "file_extension": ".py",
   "mimetype": "text/x-python",
   "name": "python",
   "nbconvert_exporter": "python",
   "pygments_lexer": "ipython3",
   "version": "3.8.10"
  }
 },
 "nbformat": 4,
 "nbformat_minor": 2
}
