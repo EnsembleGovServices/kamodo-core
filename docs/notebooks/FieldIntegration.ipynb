{
 "cells": [
  {
   "cell_type": "markdown",
   "metadata": {},
   "source": [
    "# Field Integration Techniques\n",
    "\n",
    "Many analysis techniques for vector fields require solving an initial value problem for an arbitrary set of seed points and evaluating such solutions at a chosen resolution. Kamodo makes it easy to generate fieldline solutions by providing a function decorator that wraps scipy's powerful `solve_ivp` function. Each family of solutions is represented by a single function of a complex parameter. We illustrate the flexibility of this approach in the example below."
   ]
  },
  {
   "cell_type": "code",
   "execution_count": null,
   "metadata": {},
   "outputs": [],
   "source": [
    "# initialize\n",
    "from plotly.offline import iplot, plot, init_notebook_mode\n",
    "init_notebook_mode(connected = True)\n",
    "\n",
    "from kamodo import Kamodo, event, pointlike, kamodofy, solve\n",
    "import numpy as np\n",
    "import pandas as pd"
   ]
  },
  {
   "cell_type": "markdown",
   "metadata": {},
   "source": [
    "## Dipole field model\n",
    "\n",
    "We use the following dipole field model that can accept (m,) and (1,m), and (n,m) arrays."
   ]
  },
  {
   "cell_type": "code",
   "execution_count": null,
   "metadata": {},
   "outputs": [],
   "source": [
    "def Bdip(rvec):\n",
    "    \"\"\"Need math to work in a variety of arg shapes\"\"\"\n",
    "    muvec = Bdip.muvec    \n",
    "    r = np.linalg.norm(rvec, axis = 1)\n",
    "    r[r==0] = np.nan\n",
    "\n",
    "    try:\n",
    "        rhat = rvec/r\n",
    "    except:\n",
    "        rhat = (rvec.T/r).T\n",
    "\n",
    "    try:\n",
    "        result = 3*np.dot(rhat, muvec.T)\n",
    "    except:\n",
    "        result = 3*np.dot(rhat.T, muvec.T).T\n",
    "\n",
    "\n",
    "    result = (rhat.T*result).T\n",
    "\n",
    "    try:\n",
    "        result = result - muvec\n",
    "    except:\n",
    "        result = (result - muvec.T).T\n",
    "\n",
    "    try:\n",
    "        result = result/r**3\n",
    "    except:\n",
    "        result = (result.T/r**3).T\n",
    "\n",
    "    return result\n",
    "\n",
    "# set dipole moment\n",
    "Bdip.muvec = np.array([0, 0, -1]) \n",
    "\n",
    "# pointlike enforces dimensionality\n",
    "Bdip = pointlike(Bdip, '(n,m)->(n,m)', [float], squeeze = 0)"
   ]
  },
  {
   "cell_type": "code",
   "execution_count": null,
   "metadata": {},
   "outputs": [],
   "source": [
    "kamodo = Kamodo()"
   ]
  },
  {
   "cell_type": "code",
   "execution_count": null,
   "metadata": {},
   "outputs": [],
   "source": [
    "kamodo['Bvec'] = Bdip # register the dipole field\n",
    "kamodo"
   ]
  },
  {
   "cell_type": "markdown",
   "metadata": {},
   "source": [
    "## Normalization\n",
    "\n",
    "Instead of solving the initial value problem on the original field, we will be solving on the normalized field. This will mean that the integral path is the same as the arclength, allowing us to control the visual fidelity of the resulting field."
   ]
  },
  {
   "cell_type": "markdown",
   "metadata": {},
   "source": [
    "Create a normalization function to be applied to our field"
   ]
  },
  {
   "cell_type": "code",
   "execution_count": null,
   "metadata": {},
   "outputs": [],
   "source": [
    "@kamodofy(equation = \"\\\\vec{y}/\\\\sqrt{\\\\vec{y} \\\\cdot \\\\vec{y}}\")\n",
    "@pointlike(signature = '(m,n)->(m,n)', squeeze = 0)\n",
    "def normalized(yvec):   \n",
    "    r = np.linalg.norm(yvec, axis = 1)\n",
    "    r[r==0] = np.nan\n",
    "\n",
    "    try:\n",
    "        return yvec/r\n",
    "    except:\n",
    "        return (yvec.T/r).T\n",
    "\n",
    "\n",
    "kamodo['nhat'] = normalized"
   ]
  },
  {
   "cell_type": "markdown",
   "metadata": {},
   "source": [
    "Create a normalized field"
   ]
  },
  {
   "cell_type": "code",
   "execution_count": null,
   "metadata": {},
   "outputs": [],
   "source": [
    "kamodo['bhat'] = \"nhat(Bvec)\"\n",
    "kamodo"
   ]
  },
  {
   "cell_type": "markdown",
   "metadata": {},
   "source": [
    "## Solving the initial value problem"
   ]
  },
  {
   "cell_type": "markdown",
   "metadata": {},
   "source": [
    "Generate a set of seed points for integration"
   ]
  },
  {
   "cell_type": "code",
   "execution_count": null,
   "metadata": {},
   "outputs": [],
   "source": [
    "x0 = np.linspace(-np.pi,np.pi,6)\n",
    "y0 = np.linspace(-np.pi,np.pi,6)\n",
    "z0 = 1\n",
    "\n",
    "seeds = np.array(np.column_stack([c.ravel() for c in np.meshgrid(x0,y0,z0)]))"
   ]
  },
  {
   "cell_type": "markdown",
   "metadata": {},
   "source": [
    "Create a stopping boundary for field line integrator"
   ]
  },
  {
   "cell_type": "code",
   "execution_count": null,
   "metadata": {},
   "outputs": [],
   "source": [
    "@event\n",
    "def boundary(s, rvec):\n",
    "    r = np.linalg.norm(rvec)\n",
    "    \n",
    "    if np.isnan(r):\n",
    "        result = 0\n",
    "    else:\n",
    "        result = r - 1\n",
    "    return result\n"
   ]
  },
  {
   "cell_type": "markdown",
   "metadata": {},
   "source": [
    "Solve the initial value problem for the normalized field"
   ]
  },
  {
   "cell_type": "code",
   "execution_count": null,
   "metadata": {},
   "outputs": [],
   "source": [
    "kamodo['svec'] = solve(kamodo.bhat, # the field to be solved\n",
    "                       seeds, # the initial positions\n",
    "                       's', # the name of the integration parameter\n",
    "                       (0,30), # the span to integrate over\n",
    "                       npoints = 60, # the number of points to evaluate the solution\n",
    "                       events = boundary, # stop at the boundary\n",
    "                      )\n",
    "kamodo"
   ]
  },
  {
   "cell_type": "markdown",
   "metadata": {},
   "source": [
    "The solver returns a family of solutions, represented as a single function of a complex array, $\\vec{s}(s)$ where\n",
    "$s$ is a complex array. "
   ]
  },
  {
   "cell_type": "markdown",
   "metadata": {},
   "source": [
    "## Evaluating the Solutions\n",
    "On evaluation, $\\vec{s}(s)$ returns a pandas dataframe."
   ]
  },
  {
   "cell_type": "code",
   "execution_count": null,
   "metadata": {},
   "outputs": [],
   "source": [
    "kamodo.svec().head()"
   ]
  },
  {
   "cell_type": "markdown",
   "metadata": {},
   "source": [
    "When using the default argument above, the solution evaluates at a resolution of npoints/span, stopping at the boundary."
   ]
  },
  {
   "cell_type": "markdown",
   "metadata": {},
   "source": [
    "## Complex parameterization\n",
    "Kamodo represents the family of solutions to the initial value problem as a single function of a complex array.\n",
    "\n",
    "The floor of the real part of the input parameter corresponds to the original seed array:"
   ]
  },
  {
   "cell_type": "code",
   "execution_count": null,
   "metadata": {},
   "outputs": [],
   "source": [
    "kamodo.svec([0,1,2]).values"
   ]
  },
  {
   "cell_type": "markdown",
   "metadata": {},
   "source": [
    "compare with original seeds:"
   ]
  },
  {
   "cell_type": "code",
   "execution_count": null,
   "metadata": {},
   "outputs": [],
   "source": [
    "seeds[[0,1,2]]"
   ]
  },
  {
   "cell_type": "markdown",
   "metadata": {},
   "source": [
    "The imaginary part denotes the integral along the corresponding solution. Here, we can choose evaluation points that were not in the original solution. Parameters outside the original span will be extrapolated."
   ]
  },
  {
   "cell_type": "code",
   "execution_count": null,
   "metadata": {},
   "outputs": [],
   "source": [
    "kamodo.svec([-6j, -5j, 0, 5j, 6j, 4 + 4j, 4 -5.777j])"
   ]
  },
  {
   "cell_type": "markdown",
   "metadata": {},
   "source": [
    "## Plotting Fieldlines\n",
    "\n",
    "We can quickly generate plots for all fieldlines at the default resolution by calling plot with the name of the fieldlines solution."
   ]
  },
  {
   "cell_type": "code",
   "execution_count": null,
   "metadata": {},
   "outputs": [],
   "source": [
    "import plotly.io as pio"
   ]
  },
  {
   "cell_type": "code",
   "execution_count": null,
   "metadata": {},
   "outputs": [],
   "source": [
    "fig = kamodo.plot('svec')"
   ]
  },
  {
   "cell_type": "code",
   "execution_count": null,
   "metadata": {},
   "outputs": [],
   "source": [
    "pio.write_image(fig, './images/fieldlines.svg')"
   ]
  },
  {
   "cell_type": "markdown",
   "metadata": {},
   "source": [
    "![images/fieldlines.svg](images/fieldlines.svg)"
   ]
  },
  {
   "cell_type": "markdown",
   "metadata": {},
   "source": [
    "To show the direction of the field at each point, we can evaluate $\\hat{B}(\\vec{s}(s))$"
   ]
  },
  {
   "cell_type": "code",
   "execution_count": null,
   "metadata": {},
   "outputs": [],
   "source": [
    "fig = kamodo.plot('svec', \n",
    "                  bhat = dict(rvec = kamodo.svec()))\n",
    "pio.write_image(fig,'./images/fieldlines_vectors.svg')"
   ]
  },
  {
   "cell_type": "markdown",
   "metadata": {},
   "source": [
    "![fieldlines](images/fieldlines_vectors.svg)"
   ]
  },
  {
   "cell_type": "markdown",
   "metadata": {},
   "source": [
    "## Integration totals"
   ]
  },
  {
   "cell_type": "markdown",
   "metadata": {},
   "source": [
    "To compute the total integral for each fieldline individually, we need a function to subtract the integration results at the endpoints."
   ]
  },
  {
   "cell_type": "code",
   "execution_count": null,
   "metadata": {},
   "outputs": [],
   "source": [
    "def integral(fieldline):\n",
    "    endpoints = fieldline.reset_index().integral.iloc[[0,-1]]\n",
    "    return endpoints.values[-1] - endpoints.values[0]"
   ]
  },
  {
   "cell_type": "code",
   "execution_count": null,
   "metadata": {},
   "outputs": [],
   "source": [
    "totals = []\n",
    "for seed, fieldline in kamodo.svec().groupby(level = 'seed'):\n",
    "    totals.append(integral(fieldline))\n",
    "    \n",
    "totals[:5]"
   ]
  },
  {
   "cell_type": "markdown",
   "metadata": {},
   "source": [
    "Alternatively, we can use pandas' aggregation methods to apply our function on each fieldline."
   ]
  },
  {
   "cell_type": "code",
   "execution_count": null,
   "metadata": {},
   "outputs": [],
   "source": [
    "kamodo.svec().groupby(level='seed').aggregate(integral)"
   ]
  }
 ],
 "metadata": {
  "kernelspec": {
   "display_name": "Python 3 (ipykernel)",
   "language": "python",
   "name": "python3"
  },
  "language_info": {
   "codemirror_mode": {
    "name": "ipython",
    "version": 3
   },
   "file_extension": ".py",
   "mimetype": "text/x-python",
   "name": "python",
   "nbconvert_exporter": "python",
   "pygments_lexer": "ipython3",
   "version": "3.7.11"
  }
 },
 "nbformat": 4,
 "nbformat_minor": 2
}
