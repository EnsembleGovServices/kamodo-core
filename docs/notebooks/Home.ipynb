{
 "cells": [
  {
   "cell_type": "markdown",
   "metadata": {},
   "source": [
    "# Kamodo Project Page\n",
    "\n",
    "Kamodo is a new CCMC tool for access, interpolation, and visualization of space weather models and data in python. Kamodo allows model developers to represent simulation results as mathematical functions which may be manipulated directly by end users. Kamodo handles unit conversion transparently and supports interactive science discovery through jupyter notebooks with minimal coding and is accessible through python and fortran."
   ]
  },
  {
   "cell_type": "markdown",
   "metadata": {},
   "source": [
    "# Usage"
   ]
  },
  {
   "cell_type": "markdown",
   "metadata": {},
   "source": [
    "Suppose we have a vector field defined by a function of positions in the x-y plane:"
   ]
  },
  {
   "cell_type": "code",
   "execution_count": null,
   "metadata": {},
   "outputs": [],
   "source": [
    "from kamodo import kamodofy\n",
    "import numpy as np\n",
    "\n",
    "x = np.linspace(-np.pi, np.pi, 25)\n",
    "y = np.linspace(-np.pi, np.pi, 30)\n",
    "xx, yy = np.meshgrid(x,y)\n",
    "points = np.array(list(zip(xx.ravel(), yy.ravel())))\n",
    "\n",
    "@kamodofy(units = 'km/s')\n",
    "def fvec(rvec = points):\n",
    "    ux = np.sin(rvec[:,0])\n",
    "    uy = np.cos(rvec[:,1])\n",
    "    return np.vstack((ux,uy)).T"
   ]
  },
  {
   "cell_type": "markdown",
   "metadata": {},
   "source": [
    "The @kamodofy decorator lets us register this field with units to enable unit-conversion downstream:"
   ]
  },
  {
   "cell_type": "code",
   "execution_count": null,
   "metadata": {},
   "outputs": [],
   "source": [
    "from kamodo import Kamodo\n",
    "\n",
    "kamodo = Kamodo(fvec = fvec)\n",
    "kamodo"
   ]
  },
  {
   "cell_type": "code",
   "execution_count": null,
   "metadata": {},
   "outputs": [],
   "source": [
    "kamodo.to_latex()"
   ]
  },
  {
   "cell_type": "markdown",
   "metadata": {},
   "source": [
    "We can now evaluate our function using dot notation:"
   ]
  },
  {
   "cell_type": "code",
   "execution_count": null,
   "metadata": {},
   "outputs": [],
   "source": [
    "kamodo.fvec(np.array([[-1,1]]))"
   ]
  },
  {
   "cell_type": "markdown",
   "metadata": {},
   "source": [
    "We can perform unit conversion:"
   ]
  },
  {
   "cell_type": "code",
   "execution_count": null,
   "metadata": {},
   "outputs": [],
   "source": [
    "kamodo['gvec[m/s]'] = 'fvec'\n",
    "kamodo"
   ]
  },
  {
   "cell_type": "code",
   "execution_count": null,
   "metadata": {},
   "outputs": [],
   "source": [
    "kamodo.gvec(np.array([[-1,1]]))"
   ]
  },
  {
   "cell_type": "markdown",
   "metadata": {},
   "source": [
    "We can even generate plots."
   ]
  },
  {
   "cell_type": "code",
   "execution_count": null,
   "metadata": {},
   "outputs": [],
   "source": [
    "import plotly.io as pio\n",
    "\n",
    "fig = kamodo.plot('fvec')\n",
    "pio.write_image(fig, 'images/fig2d-usage.svg')"
   ]
  },
  {
   "cell_type": "markdown",
   "metadata": {},
   "source": [
    "![usage](images/fig2d-usage.svg)"
   ]
  },
  {
   "cell_type": "markdown",
   "metadata": {},
   "source": [
    "## Getting started\n",
    "\n",
    "### Where to download\n",
    "\n",
    "You may access the kamodo repository with [git](https://git-scm.com/):\n",
    "\n",
    "    git clone git@github.com:EnsembleGovServices/kamodo-core.git\n",
    "\n",
    "\n",
    "#### Download (mini)conda\n",
    "\n",
    "We strongly recommend using the conda environment system to avoid library conflicts with your host machine's python.\n",
    "\n",
    "Download and install miniconda from [here](https://conda.io/miniconda.html).\n",
    "\n",
    "#### Create Kamodo environment\n",
    "\n",
    "Create a new environment for kamodo\n",
    "\n",
    "    conda create -n kamodo python=3.7 jupyter pandas numpy\n",
    "\n",
    "#### Activate new environment\n",
    "\n",
    "From a bash shell:\n",
    "\n",
    "    source activate kamodo\n",
    "\n",
    "Requirements\n",
    "\n",
    "* numpy\n",
    "* scipy\n",
    "* sympy\n",
    "* pandas\n",
    "* plotly==3.3\n",
    "* pytest\n",
    "* psutil\n",
    "\n",
    "#### Loading a notebook\n",
    "\n",
    "Start the notebook server in the ```Prototypes``` subdirectory\n",
    "\n",
    "    jupyter notebook Prototypes"
   ]
  }
 ],
 "metadata": {
  "kernelspec": {
   "display_name": "Python 3 (ipykernel)",
   "language": "python",
   "name": "python3"
  },
  "language_info": {
   "codemirror_mode": {
    "name": "ipython",
    "version": 3
   },
   "file_extension": ".py",
   "mimetype": "text/x-python",
   "name": "python",
   "nbconvert_exporter": "python",
   "pygments_lexer": "ipython3",
   "version": "3.7.11"
  }
 },
 "nbformat": 4,
 "nbformat_minor": 2
}
